{
 "cells": [
  {
   "cell_type": "code",
   "execution_count": 3,
   "metadata": {},
   "outputs": [],
   "source": [
    "import os"
   ]
  },
  {
   "cell_type": "markdown",
   "metadata": {},
   "source": [
    "This script is to convert the unstructured test data found on the Kaggle dataset link to a structured form compatible with ImageDataGen.flow_from_directory()"
   ]
  },
  {
   "cell_type": "code",
   "execution_count": 6,
   "metadata": {},
   "outputs": [],
   "source": [
    "new_path = 'traffic_Data/TEST_STRUCTURED/'\n",
    "old_path = 'traffic_Data/TEST/'"
   ]
  },
  {
   "cell_type": "code",
   "execution_count": 8,
   "metadata": {},
   "outputs": [],
   "source": [
    "# Creating folders for each label in the test set\n",
    "\n",
    "for i in range(58):\n",
    "    dir_path = os.path.join(new_path, str(i))\n",
    "    if not os.path.exists(dir_path):\n",
    "        os.makedirs(dir_path)"
   ]
  },
  {
   "cell_type": "code",
   "execution_count": 9,
   "metadata": {},
   "outputs": [
    {
     "name": "stdout",
     "output_type": "stream",
     "text": [
      "57\n"
     ]
    },
    {
     "ename": "PermissionError",
     "evalue": "[WinError 5] Access is denied: 'traffic_Data/TEST/000_0001_j.png' -> 'traffic_Data/TEST_STRUCTURED/0'",
     "output_type": "error",
     "traceback": [
      "\u001b[1;31m---------------------------------------------------------------------------\u001b[0m",
      "\u001b[1;31mPermissionError\u001b[0m                           Traceback (most recent call last)",
      "Cell \u001b[1;32mIn[9], line 9\u001b[0m\n\u001b[0;32m      7\u001b[0m \u001b[38;5;28mprint\u001b[39m(i)\n\u001b[0;32m      8\u001b[0m dstn_path \u001b[38;5;241m=\u001b[39m os\u001b[38;5;241m.\u001b[39mpath\u001b[38;5;241m.\u001b[39mjoin(new_path, label)\n\u001b[1;32m----> 9\u001b[0m \u001b[43mos\u001b[49m\u001b[38;5;241;43m.\u001b[39;49m\u001b[43mreplace\u001b[49m\u001b[43m(\u001b[49m\u001b[43msrc_path\u001b[49m\u001b[43m,\u001b[49m\u001b[43m \u001b[49m\u001b[43mdstn_path\u001b[49m\u001b[43m)\u001b[49m\n",
      "\u001b[1;31mPermissionError\u001b[0m: [WinError 5] Access is denied: 'traffic_Data/TEST/000_0001_j.png' -> 'traffic_Data/TEST_STRUCTURED/0'"
     ]
    }
   ],
   "source": [
    "# Going through the old TEST folder\n",
    "# Sending each item to its designated new subfolder under TEST_STRUCTURED\n",
    "\n",
    "for item in os.listdir(old_path):\n",
    "    src_path = os.path.join(old_path, item)\n",
    "    label = str(int(item[:3]))\n",
    "    print(i)\n",
    "    dstn_path = os.path.join(new_path, label)\n",
    "    dstn_path = os.path.join(dstn_path, item)\n",
    "    os.replace(src_path, dstn_path)"
   ]
  }
 ],
 "metadata": {
  "kernelspec": {
   "display_name": "Python 3",
   "language": "python",
   "name": "python3"
  },
  "language_info": {
   "codemirror_mode": {
    "name": "ipython",
    "version": 3
   },
   "file_extension": ".py",
   "mimetype": "text/x-python",
   "name": "python",
   "nbconvert_exporter": "python",
   "pygments_lexer": "ipython3",
   "version": "3.10.11"
  }
 },
 "nbformat": 4,
 "nbformat_minor": 2
}
