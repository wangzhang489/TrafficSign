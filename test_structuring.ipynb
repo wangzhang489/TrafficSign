{
 "cells": [
  {
   "cell_type": "markdown",
   "metadata": {},
   "source": [
    "This script is to convert the unstructured test data found on the Kaggle dataset link to a structured form compatible with ImageDataGen.flow_from_directory()"
   ]
  },
  {
   "cell_type": "code",
   "execution_count": 2,
   "metadata": {},
   "outputs": [],
   "source": [
    "import os\n",
    "import shutil"
   ]
  },
  {
   "cell_type": "code",
   "execution_count": 17,
   "metadata": {},
   "outputs": [],
   "source": [
    "new_path = 'traffic_Data/TEST_STRUCTURED/'\n",
    "old_path = 'traffic_Data/TEST/'"
   ]
  },
  {
   "cell_type": "code",
   "execution_count": 20,
   "metadata": {},
   "outputs": [],
   "source": [
    "# Creating folders for each label in the test set\n",
    "# This cell is idempotent\n",
    "\n",
    "for i in range(58):\n",
    "    dir_path = os.path.join(new_path, str(i))\n",
    "    if not os.path.exists(dir_path):\n",
    "        os.makedirs(dir_path)"
   ]
  },
  {
   "cell_type": "code",
   "execution_count": 21,
   "metadata": {},
   "outputs": [],
   "source": [
    "# Going through the old TEST folder\n",
    "# Copying each item to its designated new subfolder under TEST_STRUCTURED\n",
    "# This cell is idempotent\n",
    "\n",
    "for item in os.listdir(old_path):\n",
    "    src_path = os.path.join(old_path, item)\n",
    "    label = str(int(item[:3]))\n",
    "    dstn_path = os.path.join(new_path, label)\n",
    "    dstn_path = os.path.join(dstn_path, item)\n",
    "    shutil.copy(src_path, dstn_path)"
   ]
  },
  {
   "cell_type": "code",
   "execution_count": 19,
   "metadata": {},
   "outputs": [
    {
     "name": "stdout",
     "output_type": "stream",
     "text": [
      "traffic_Data/TEST/\n",
      "traffic_Data/TEST_STRUCTURED/\n",
      "traffic_Data/DATA/\n",
      "009_0001.png\n",
      "018_0001.png\n",
      "019_0001.png\n",
      "033_0001.png\n"
     ]
    }
   ],
   "source": [
    "# Rectifying missing classes in test set\n",
    "# This cell addresses the issues that arise due to lack of classes 9, 18, 19, and 33 in the test dataset\n",
    "# This throws off one-hot encoding while importing data, and creates a mismatch between test and training label matrices\n",
    "# This cell is idempotent\n",
    "missing_classes = [9,18,19,33]\n",
    "spc_path = 'traffic_Data/DATA/'\n",
    "print(old_path)\n",
    "print(new_path)\n",
    "print(spc_path)\n",
    "for i in missing_classes:\n",
    "    dir_path = os.path.join(new_path, str(i))\n",
    "    if not os.path.exists(dir_path):\n",
    "        os.makedirs(dir_path)\n",
    "    src_path =  os.path.join(spc_path, str(i))\n",
    "    dstn_path = dir_path\n",
    "    file = os.listdir(src_path)[0]\n",
    "    print(file)\n",
    "    src_path = os.path.join(src_path, file)\n",
    "    shutil.copy(src_path, dstn_path)\n"
   ]
  }
 ],
 "metadata": {
  "kernelspec": {
   "display_name": "Python 3",
   "language": "python",
   "name": "python3"
  },
  "language_info": {
   "codemirror_mode": {
    "name": "ipython",
    "version": 3
   },
   "file_extension": ".py",
   "mimetype": "text/x-python",
   "name": "python",
   "nbconvert_exporter": "python",
   "pygments_lexer": "ipython3",
   "version": "3.10.11"
  }
 },
 "nbformat": 4,
 "nbformat_minor": 2
}
